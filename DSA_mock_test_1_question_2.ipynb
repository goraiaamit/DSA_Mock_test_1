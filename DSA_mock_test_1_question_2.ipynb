{
 "cells": [
  {
   "cell_type": "code",
   "execution_count": 4,
   "id": "76ad6c6a",
   "metadata": {},
   "outputs": [
    {
     "data": {
      "text/plain": [
       "0"
      ]
     },
     "execution_count": 4,
     "metadata": {},
     "output_type": "execute_result"
    }
   ],
   "source": [
    "def uniquecharacter(s):\n",
    "    char_count = {}\n",
    "\n",
    "    for char in s:\n",
    "        if char in char_count:\n",
    "            char_count[char] = char_count[char]+1\n",
    "        else:\n",
    "            char_count[char] = 1\n",
    "\n",
    "    for i in range(len(s)):\n",
    "        if char_count[s[i]] == 1:\n",
    "            return i\n",
    "    return -1\n",
    "s = \"leetcode\"\n",
    "uniquecharacter(s)"
   ]
  },
  {
   "cell_type": "code",
   "execution_count": null,
   "id": "85ba1dda",
   "metadata": {},
   "outputs": [],
   "source": []
  }
 ],
 "metadata": {
  "kernelspec": {
   "display_name": "Python 3 (ipykernel)",
   "language": "python",
   "name": "python3"
  },
  "language_info": {
   "codemirror_mode": {
    "name": "ipython",
    "version": 3
   },
   "file_extension": ".py",
   "mimetype": "text/x-python",
   "name": "python",
   "nbconvert_exporter": "python",
   "pygments_lexer": "ipython3",
   "version": "3.9.13"
  }
 },
 "nbformat": 4,
 "nbformat_minor": 5
}
