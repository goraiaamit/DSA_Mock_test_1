{
 "cells": [
  {
   "cell_type": "code",
   "execution_count": 1,
   "id": "48c48ef5",
   "metadata": {},
   "outputs": [
    {
     "name": "stdout",
     "output_type": "stream",
     "text": [
      "[1, 3, 12, 0, 0]\n"
     ]
    }
   ],
   "source": [
    "def nonzero(nums):\n",
    "    n=len(nums)\n",
    "    k=0\n",
    "    for i in range(n):\n",
    "        if nums[i] !=0:\n",
    "            nums[k]=nums[i]\n",
    "            k=k+1\n",
    "            \n",
    "    while k<n:\n",
    "        nums[k]=0\n",
    "        k=k+1\n",
    "        \n",
    "nums=[0,1,0,3,12]\n",
    "nonzero(nums)\n",
    "print(nums)"
   ]
  },
  {
   "cell_type": "code",
   "execution_count": null,
   "id": "39dcfe0b",
   "metadata": {},
   "outputs": [],
   "source": []
  }
 ],
 "metadata": {
  "kernelspec": {
   "display_name": "Python 3 (ipykernel)",
   "language": "python",
   "name": "python3"
  },
  "language_info": {
   "codemirror_mode": {
    "name": "ipython",
    "version": 3
   },
   "file_extension": ".py",
   "mimetype": "text/x-python",
   "name": "python",
   "nbconvert_exporter": "python",
   "pygments_lexer": "ipython3",
   "version": "3.9.13"
  }
 },
 "nbformat": 4,
 "nbformat_minor": 5
}
